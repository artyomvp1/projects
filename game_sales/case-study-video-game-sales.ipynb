{
 "cells": [
  {
   "cell_type": "markdown",
   "id": "145b38e8",
   "metadata": {
    "papermill": {
     "duration": 0.013968,
     "end_time": "2021-07-27T05:56:11.842492",
     "exception": false,
     "start_time": "2021-07-27T05:56:11.828524",
     "status": "completed"
    },
    "tags": []
   },
   "source": [
    "# Introduction"
   ]
  },
  {
   "cell_type": "markdown",
   "id": "1fcc02f7",
   "metadata": {
    "papermill": {
     "duration": 0.012691,
     "end_time": "2021-07-27T05:56:11.870237",
     "exception": false,
     "start_time": "2021-07-27T05:56:11.857546",
     "status": "completed"
    },
    "tags": []
   },
   "source": [
    "# Stage 1: Ask questions and determine tasks\n",
    "#### The stakeholders: \n",
    "* Unknown\n",
    "\n",
    "#### The business tasks:\n",
    "* Exploration and analysis\n",
    "* Determine patterns and correlations of the most succesful video games."
   ]
  },
  {
   "cell_type": "markdown",
   "id": "ee6330bd",
   "metadata": {
    "papermill": {
     "duration": 0.013036,
     "end_time": "2021-07-27T05:56:11.896171",
     "exception": false,
     "start_time": "2021-07-27T05:56:11.883135",
     "status": "completed"
    },
    "tags": []
   },
   "source": [
    "# Stage 2: Preparation\n",
    "**Data:** [click here](https://www.kaggle.com/gregorut/videogamesales)<br>\n",
    "**License:** [click here](https://github.com/GregorUT/vgchartzScrape/blob/master/LICENSE)<br>\n",
    "**Description**: This data set contains the information about video game sales above 100 000 copies. The data includes mostly the information about sales divided by regions.<br>\n",
    "\n",
    "### Fields include\n",
    "**Rank** - *Ranking of overall sales*<br>\n",
    "**Name** - *The games name*<br>\n",
    "**Platform** - *Platform of the games release*<br>\n",
    "**Year** - *Year of the game's release*<br>\n",
    "**Genre** - *Genre of the game*<br>\n",
    "**Publisher** - *Publisher of the game*<br>\n",
    "**NA_Sales** - *Sales in North America (in millions)*<br>\n",
    "**EU_Sales** - *Sales in Europe (in millions)*<br>\n",
    "**JP_Sales** - *Sales in Japan (in millions)*<br>\n",
    "**Other_Sales** - *Sales in the rest of the world (in millions)*<br>\n",
    "**Global_Sales** - *Total worldwide sales*<br>"
   ]
  },
  {
   "cell_type": "markdown",
   "id": "1ae9a95b",
   "metadata": {
    "papermill": {
     "duration": 0.012575,
     "end_time": "2021-07-27T05:56:11.921779",
     "exception": false,
     "start_time": "2021-07-27T05:56:11.909204",
     "status": "completed"
    },
    "tags": []
   },
   "source": [
    "# Stage 3: Process the data\n",
    "The observation and analysis will be conducter with Python 3 (libraries `pandas`, `numpy` and `matplotlib`).\n",
    "\n",
    "#### 3.1 Importing libraries and data"
   ]
  },
  {
   "cell_type": "code",
   "execution_count": 1,
   "id": "0c93ca05",
   "metadata": {
    "execution": {
     "iopub.execute_input": "2021-07-27T05:56:11.951651Z",
     "iopub.status.busy": "2021-07-27T05:56:11.950403Z",
     "iopub.status.idle": "2021-07-27T05:56:12.086304Z",
     "shell.execute_reply": "2021-07-27T05:56:12.085584Z",
     "shell.execute_reply.started": "2021-07-27T05:55:35.411300Z"
    },
    "papermill": {
     "duration": 0.15176,
     "end_time": "2021-07-27T05:56:12.086465",
     "exception": false,
     "start_time": "2021-07-27T05:56:11.934705",
     "status": "completed"
    },
    "tags": []
   },
   "outputs": [],
   "source": [
    "import pandas as pd\n",
    "import numpy as np\n",
    "import matplotlib.pyplot as plt\n",
    "from wordcloud import WordCloud"
   ]
  },
  {
   "cell_type": "code",
   "execution_count": 2,
   "id": "171e20e2",
   "metadata": {
    "_kg_hide-input": true,
    "_kg_hide-output": false,
    "execution": {
     "iopub.execute_input": "2021-07-27T05:56:12.117181Z",
     "iopub.status.busy": "2021-07-27T05:56:12.116546Z",
     "iopub.status.idle": "2021-07-27T05:56:12.223235Z",
     "shell.execute_reply": "2021-07-27T05:56:12.222472Z",
     "shell.execute_reply.started": "2021-07-27T05:14:19.424715Z"
    },
    "papermill": {
     "duration": 0.12369,
     "end_time": "2021-07-27T05:56:12.223389",
     "exception": false,
     "start_time": "2021-07-27T05:56:12.099699",
     "status": "completed"
    },
    "tags": []
   },
   "outputs": [
    {
     "data": {
      "text/html": [
       "<div>\n",
       "<style scoped>\n",
       "    .dataframe tbody tr th:only-of-type {\n",
       "        vertical-align: middle;\n",
       "    }\n",
       "\n",
       "    .dataframe tbody tr th {\n",
       "        vertical-align: top;\n",
       "    }\n",
       "\n",
       "    .dataframe thead th {\n",
       "        text-align: right;\n",
       "    }\n",
       "</style>\n",
       "<table border=\"1\" class=\"dataframe\">\n",
       "  <thead>\n",
       "    <tr style=\"text-align: right;\">\n",
       "      <th></th>\n",
       "      <th>Rank</th>\n",
       "      <th>Name</th>\n",
       "      <th>Platform</th>\n",
       "      <th>Year</th>\n",
       "      <th>Genre</th>\n",
       "      <th>Publisher</th>\n",
       "      <th>NA_Sales</th>\n",
       "      <th>EU_Sales</th>\n",
       "      <th>JP_Sales</th>\n",
       "      <th>Other_Sales</th>\n",
       "      <th>Global_Sales</th>\n",
       "    </tr>\n",
       "  </thead>\n",
       "  <tbody>\n",
       "    <tr>\n",
       "      <th>0</th>\n",
       "      <td>1</td>\n",
       "      <td>Wii Sports</td>\n",
       "      <td>Wii</td>\n",
       "      <td>2006.0</td>\n",
       "      <td>Sports</td>\n",
       "      <td>Nintendo</td>\n",
       "      <td>41.49</td>\n",
       "      <td>29.02</td>\n",
       "      <td>3.77</td>\n",
       "      <td>8.46</td>\n",
       "      <td>82.74</td>\n",
       "    </tr>\n",
       "    <tr>\n",
       "      <th>1</th>\n",
       "      <td>2</td>\n",
       "      <td>Super Mario Bros.</td>\n",
       "      <td>NES</td>\n",
       "      <td>1985.0</td>\n",
       "      <td>Platform</td>\n",
       "      <td>Nintendo</td>\n",
       "      <td>29.08</td>\n",
       "      <td>3.58</td>\n",
       "      <td>6.81</td>\n",
       "      <td>0.77</td>\n",
       "      <td>40.24</td>\n",
       "    </tr>\n",
       "    <tr>\n",
       "      <th>2</th>\n",
       "      <td>3</td>\n",
       "      <td>Mario Kart Wii</td>\n",
       "      <td>Wii</td>\n",
       "      <td>2008.0</td>\n",
       "      <td>Racing</td>\n",
       "      <td>Nintendo</td>\n",
       "      <td>15.85</td>\n",
       "      <td>12.88</td>\n",
       "      <td>3.79</td>\n",
       "      <td>3.31</td>\n",
       "      <td>35.82</td>\n",
       "    </tr>\n",
       "    <tr>\n",
       "      <th>3</th>\n",
       "      <td>4</td>\n",
       "      <td>Wii Sports Resort</td>\n",
       "      <td>Wii</td>\n",
       "      <td>2009.0</td>\n",
       "      <td>Sports</td>\n",
       "      <td>Nintendo</td>\n",
       "      <td>15.75</td>\n",
       "      <td>11.01</td>\n",
       "      <td>3.28</td>\n",
       "      <td>2.96</td>\n",
       "      <td>33.00</td>\n",
       "    </tr>\n",
       "  </tbody>\n",
       "</table>\n",
       "</div>"
      ],
      "text/plain": [
       "   Rank               Name Platform    Year     Genre Publisher  NA_Sales  \\\n",
       "0     1         Wii Sports      Wii  2006.0    Sports  Nintendo     41.49   \n",
       "1     2  Super Mario Bros.      NES  1985.0  Platform  Nintendo     29.08   \n",
       "2     3     Mario Kart Wii      Wii  2008.0    Racing  Nintendo     15.85   \n",
       "3     4  Wii Sports Resort      Wii  2009.0    Sports  Nintendo     15.75   \n",
       "\n",
       "   EU_Sales  JP_Sales  Other_Sales  Global_Sales  \n",
       "0     29.02      3.77         8.46         82.74  \n",
       "1      3.58      6.81         0.77         40.24  \n",
       "2     12.88      3.79         3.31         35.82  \n",
       "3     11.01      3.28         2.96         33.00  "
      ]
     },
     "execution_count": 2,
     "metadata": {},
     "output_type": "execute_result"
    }
   ],
   "source": [
    "games = pd.read_csv('../input/videogamesales/vgsales.csv')\n",
    "games.head(4)"
   ]
  },
  {
   "cell_type": "markdown",
   "id": "9a9b660f",
   "metadata": {
    "papermill": {
     "duration": 0.017735,
     "end_time": "2021-07-27T05:56:12.260262",
     "exception": false,
     "start_time": "2021-07-27T05:56:12.242527",
     "status": "completed"
    },
    "tags": []
   },
   "source": [
    "#### 3.2. Observing the data set"
   ]
  },
  {
   "cell_type": "markdown",
   "id": "68f3b2a8",
   "metadata": {
    "papermill": {
     "duration": 0.012879,
     "end_time": "2021-07-27T05:56:12.286508",
     "exception": false,
     "start_time": "2021-07-27T05:56:12.273629",
     "status": "completed"
    },
    "tags": []
   },
   "source": [
    "Accoring to the brief information above, the `Year` column contains `float` data type. Also, the number of values in  the`Year` and `Publisher` columns format is different next to other columns. Probably, the reason is empty values."
   ]
  },
  {
   "cell_type": "code",
   "execution_count": 3,
   "id": "0eacb73d",
   "metadata": {
    "_kg_hide-input": true,
    "_kg_hide-output": false,
    "execution": {
     "iopub.execute_input": "2021-07-27T05:56:12.321761Z",
     "iopub.status.busy": "2021-07-27T05:56:12.321194Z",
     "iopub.status.idle": "2021-07-27T05:56:12.338540Z",
     "shell.execute_reply": "2021-07-27T05:56:12.337660Z",
     "shell.execute_reply.started": "2021-07-27T05:14:19.495411Z"
    },
    "papermill": {
     "duration": 0.039021,
     "end_time": "2021-07-27T05:56:12.338722",
     "exception": false,
     "start_time": "2021-07-27T05:56:12.299701",
     "status": "completed"
    },
    "tags": []
   },
   "outputs": [
    {
     "name": "stdout",
     "output_type": "stream",
     "text": [
      "<class 'pandas.core.frame.DataFrame'>\n",
      "RangeIndex: 16598 entries, 0 to 16597\n",
      "Data columns (total 11 columns):\n",
      " #   Column        Non-Null Count  Dtype  \n",
      "---  ------        --------------  -----  \n",
      " 0   Rank          16598 non-null  int64  \n",
      " 1   Name          16598 non-null  object \n",
      " 2   Platform      16598 non-null  object \n",
      " 3   Year          16327 non-null  float64\n",
      " 4   Genre         16598 non-null  object \n",
      " 5   Publisher     16540 non-null  object \n",
      " 6   NA_Sales      16598 non-null  float64\n",
      " 7   EU_Sales      16598 non-null  float64\n",
      " 8   JP_Sales      16598 non-null  float64\n",
      " 9   Other_Sales   16598 non-null  float64\n",
      " 10  Global_Sales  16598 non-null  float64\n",
      "dtypes: float64(6), int64(1), object(4)\n",
      "memory usage: 1.4+ MB\n"
     ]
    }
   ],
   "source": [
    "# Common information about the data set and attributes\n",
    "games.info()"
   ]
  },
  {
   "cell_type": "code",
   "execution_count": 4,
   "id": "943d93f8",
   "metadata": {
    "_kg_hide-output": true,
    "execution": {
     "iopub.execute_input": "2021-07-27T05:56:12.378409Z",
     "iopub.status.busy": "2021-07-27T05:56:12.377524Z",
     "iopub.status.idle": "2021-07-27T05:56:12.381844Z",
     "shell.execute_reply": "2021-07-27T05:56:12.381337Z",
     "shell.execute_reply.started": "2021-07-27T05:14:19.520667Z"
    },
    "papermill": {
     "duration": 0.02826,
     "end_time": "2021-07-27T05:56:12.381977",
     "exception": false,
     "start_time": "2021-07-27T05:56:12.353717",
     "status": "completed"
    },
    "tags": []
   },
   "outputs": [
    {
     "data": {
      "text/plain": [
       "Rank            False\n",
       "Name            False\n",
       "Platform        False\n",
       "Year             True\n",
       "Genre           False\n",
       "Publisher        True\n",
       "NA_Sales        False\n",
       "EU_Sales        False\n",
       "JP_Sales        False\n",
       "Other_Sales     False\n",
       "Global_Sales    False\n",
       "dtype: bool"
      ]
     },
     "execution_count": 4,
     "metadata": {},
     "output_type": "execute_result"
    }
   ],
   "source": [
    "# Empty values check\n",
    "games.isna().any()"
   ]
  },
  {
   "cell_type": "code",
   "execution_count": 5,
   "id": "72935f7e",
   "metadata": {
    "_kg_hide-output": true,
    "execution": {
     "iopub.execute_input": "2021-07-27T05:56:12.415819Z",
     "iopub.status.busy": "2021-07-27T05:56:12.415231Z",
     "iopub.status.idle": "2021-07-27T05:56:12.433742Z",
     "shell.execute_reply": "2021-07-27T05:56:12.433240Z",
     "shell.execute_reply.started": "2021-07-27T05:14:19.543788Z"
    },
    "papermill": {
     "duration": 0.037736,
     "end_time": "2021-07-27T05:56:12.433900",
     "exception": false,
     "start_time": "2021-07-27T05:56:12.396164",
     "status": "completed"
    },
    "tags": []
   },
   "outputs": [
    {
     "data": {
      "text/plain": [
       "False"
      ]
     },
     "execution_count": 5,
     "metadata": {},
     "output_type": "execute_result"
    }
   ],
   "source": [
    "# Duplicated rows check\n",
    "games.duplicated().any()"
   ]
  },
  {
   "cell_type": "markdown",
   "id": "0b59a481",
   "metadata": {
    "papermill": {
     "duration": 0.013942,
     "end_time": "2021-07-27T05:56:12.462184",
     "exception": false,
     "start_time": "2021-07-27T05:56:12.448242",
     "status": "completed"
    },
    "tags": []
   },
   "source": [
    "#### 3.3 Cleaning "
   ]
  },
  {
   "cell_type": "code",
   "execution_count": 6,
   "id": "6c133e72",
   "metadata": {
    "execution": {
     "iopub.execute_input": "2021-07-27T05:56:12.497290Z",
     "iopub.status.busy": "2021-07-27T05:56:12.496270Z",
     "iopub.status.idle": "2021-07-27T05:56:12.540887Z",
     "shell.execute_reply": "2021-07-27T05:56:12.539910Z",
     "shell.execute_reply.started": "2021-07-27T05:14:19.571049Z"
    },
    "papermill": {
     "duration": 0.064645,
     "end_time": "2021-07-27T05:56:12.541096",
     "exception": false,
     "start_time": "2021-07-27T05:56:12.476451",
     "status": "completed"
    },
    "tags": []
   },
   "outputs": [],
   "source": [
    "# Drop NA-values in YEAR\n",
    "games.dropna(subset=['Year'], inplace=True)\n",
    "\n",
    "# Handling NA-values in the Publisher\n",
    "games.loc[games['Publisher'].isna() == True, ['Publisher']] = 'Unknown'\n",
    "\n",
    "# Fixing 'Year' format\n",
    "games['Year'] = games['Year'].apply(int)"
   ]
  },
  {
   "cell_type": "markdown",
   "id": "df28235c",
   "metadata": {
    "papermill": {
     "duration": 0.01882,
     "end_time": "2021-07-27T05:56:12.578062",
     "exception": false,
     "start_time": "2021-07-27T05:56:12.559242",
     "status": "completed"
    },
    "tags": []
   },
   "source": [
    "# Stage 4: Analysis and visualization\n",
    "* Count by year\n",
    "* Genre pie chart\n",
    "* Top 10 games (global sales/NA)\n",
    "* Companies revenue in regions\n",
    "\n",
    "#### 4.1 Aggregated summary.\n",
    "\n",
    "https://www.kaggle.com/gulsahdemiryurek/video-game-sales-exploratory-data-analysis"
   ]
  },
  {
   "cell_type": "code",
   "execution_count": 7,
   "id": "ebbdc9b7",
   "metadata": {
    "execution": {
     "iopub.execute_input": "2021-07-27T05:56:12.615006Z",
     "iopub.status.busy": "2021-07-27T05:56:12.614291Z",
     "iopub.status.idle": "2021-07-27T05:56:12.646924Z",
     "shell.execute_reply": "2021-07-27T05:56:12.647398Z",
     "shell.execute_reply.started": "2021-07-27T05:14:19.602625Z"
    },
    "papermill": {
     "duration": 0.053577,
     "end_time": "2021-07-27T05:56:12.647562",
     "exception": false,
     "start_time": "2021-07-27T05:56:12.593985",
     "status": "completed"
    },
    "tags": []
   },
   "outputs": [
    {
     "data": {
      "text/html": [
       "<div>\n",
       "<style scoped>\n",
       "    .dataframe tbody tr th:only-of-type {\n",
       "        vertical-align: middle;\n",
       "    }\n",
       "\n",
       "    .dataframe tbody tr th {\n",
       "        vertical-align: top;\n",
       "    }\n",
       "\n",
       "    .dataframe thead th {\n",
       "        text-align: right;\n",
       "    }\n",
       "</style>\n",
       "<table border=\"1\" class=\"dataframe\">\n",
       "  <thead>\n",
       "    <tr style=\"text-align: right;\">\n",
       "      <th></th>\n",
       "      <th>NA_Sales</th>\n",
       "      <th>EU_Sales</th>\n",
       "      <th>JP_Sales</th>\n",
       "      <th>Other_Sales</th>\n",
       "      <th>Global_Sales</th>\n",
       "    </tr>\n",
       "  </thead>\n",
       "  <tbody>\n",
       "    <tr>\n",
       "      <th>count</th>\n",
       "      <td>100.00</td>\n",
       "      <td>100.00</td>\n",
       "      <td>100.00</td>\n",
       "      <td>100.00</td>\n",
       "      <td>100.00</td>\n",
       "    </tr>\n",
       "    <tr>\n",
       "      <th>mean</th>\n",
       "      <td>7.05</td>\n",
       "      <td>4.21</td>\n",
       "      <td>2.05</td>\n",
       "      <td>1.32</td>\n",
       "      <td>14.62</td>\n",
       "    </tr>\n",
       "    <tr>\n",
       "      <th>std</th>\n",
       "      <td>5.87</td>\n",
       "      <td>3.51</td>\n",
       "      <td>2.05</td>\n",
       "      <td>1.56</td>\n",
       "      <td>9.94</td>\n",
       "    </tr>\n",
       "    <tr>\n",
       "      <th>min</th>\n",
       "      <td>0.98</td>\n",
       "      <td>0.01</td>\n",
       "      <td>0.00</td>\n",
       "      <td>0.08</td>\n",
       "      <td>7.34</td>\n",
       "    </tr>\n",
       "    <tr>\n",
       "      <th>25%</th>\n",
       "      <td>3.86</td>\n",
       "      <td>2.31</td>\n",
       "      <td>0.23</td>\n",
       "      <td>0.55</td>\n",
       "      <td>8.97</td>\n",
       "    </tr>\n",
       "    <tr>\n",
       "      <th>50%</th>\n",
       "      <td>5.67</td>\n",
       "      <td>3.38</td>\n",
       "      <td>1.64</td>\n",
       "      <td>0.86</td>\n",
       "      <td>11.25</td>\n",
       "    </tr>\n",
       "    <tr>\n",
       "      <th>75%</th>\n",
       "      <td>8.29</td>\n",
       "      <td>5.04</td>\n",
       "      <td>3.28</td>\n",
       "      <td>1.62</td>\n",
       "      <td>15.92</td>\n",
       "    </tr>\n",
       "    <tr>\n",
       "      <th>max</th>\n",
       "      <td>41.49</td>\n",
       "      <td>29.02</td>\n",
       "      <td>10.22</td>\n",
       "      <td>10.57</td>\n",
       "      <td>82.74</td>\n",
       "    </tr>\n",
       "  </tbody>\n",
       "</table>\n",
       "</div>"
      ],
      "text/plain": [
       "       NA_Sales  EU_Sales  JP_Sales  Other_Sales  Global_Sales\n",
       "count    100.00    100.00    100.00       100.00        100.00\n",
       "mean       7.05      4.21      2.05         1.32         14.62\n",
       "std        5.87      3.51      2.05         1.56          9.94\n",
       "min        0.98      0.01      0.00         0.08          7.34\n",
       "25%        3.86      2.31      0.23         0.55          8.97\n",
       "50%        5.67      3.38      1.64         0.86         11.25\n",
       "75%        8.29      5.04      3.28         1.62         15.92\n",
       "max       41.49     29.02     10.22        10.57         82.74"
      ]
     },
     "execution_count": 7,
     "metadata": {},
     "output_type": "execute_result"
    }
   ],
   "source": [
    "# Sorting and extracting top 100\n",
    "games = games.sort_values('Global_Sales', ascending=False).head(100)\n",
    "\n",
    "# Changing float format\n",
    "pd.options.display.float_format = \"{:.2f}\".format\n",
    "\n",
    "# Aggregated statistics\n",
    "games[['NA_Sales','EU_Sales', 'JP_Sales', 'Other_Sales','Global_Sales']].describe()  #.style.background_gradient(cmap=\"Spectral\")"
   ]
  },
  {
   "cell_type": "markdown",
   "id": "6cf682de",
   "metadata": {
    "papermill": {
     "duration": 0.014336,
     "end_time": "2021-07-27T05:56:12.676559",
     "exception": false,
     "start_time": "2021-07-27T05:56:12.662223",
     "status": "completed"
    },
    "tags": []
   },
   "source": [
    "#### 4.2 Sales per year"
   ]
  },
  {
   "cell_type": "code",
   "execution_count": 8,
   "id": "2a002d87",
   "metadata": {
    "execution": {
     "iopub.execute_input": "2021-07-27T05:56:12.715350Z",
     "iopub.status.busy": "2021-07-27T05:56:12.714712Z",
     "iopub.status.idle": "2021-07-27T05:56:13.060635Z",
     "shell.execute_reply": "2021-07-27T05:56:13.060019Z",
     "shell.execute_reply.started": "2021-07-27T05:14:19.634142Z"
    },
    "papermill": {
     "duration": 0.369663,
     "end_time": "2021-07-27T05:56:13.060772",
     "exception": false,
     "start_time": "2021-07-27T05:56:12.691109",
     "status": "completed"
    },
    "tags": []
   },
   "outputs": [
    {
     "data": {
      "image/png": "[encoded data removed]",
      "text/plain": [
       "<Figure size 1440x504 with 1 Axes>"
      ]
     },
     "metadata": {
      "needs_background": "light"
     },
     "output_type": "display_data"
    }
   ],
   "source": [
    "df_year = games.groupby('Year').sum().reset_index(drop=False)\n",
    "\n",
    "# Plot parameters \n",
    "figsize = [20, 7]\n",
    "x = df_year['Year']\n",
    "y = df_year['Global_Sales']\n",
    "width = 0.8\n",
    "color = 'mediumpurple'\n",
    "\n",
    "# Bar chart\n",
    "plt.figure(figsize=figsize)\n",
    "bars = plt.bar(x, y, \n",
    "               width=width, \n",
    "               color=color)\n",
    "bars[17].set_hatch('x')\n",
    "\n",
    "# Non-data objects\n",
    "plt.title('Global Sales per Year', fontdict={'fontweight':'bold', 'fontsize':20})\n",
    "plt.xlabel('Year', fontdict={'fontsize':16})\n",
    "plt.ylabel('Dollars ($M)', fontdict={'fontsize':16})\n",
    "plt.xticks(df_year['Year'], rotation = 90)\n",
    "\n",
    "plt.show()\n",
    "\n",
    "# Labeled \n",
    "# for i in range(len(x)):\n",
    "    # plt.text(i, y[i], y[i], ha='center', va='bottom')"
   ]
  },
  {
   "cell_type": "markdown",
   "id": "6a47ef85",
   "metadata": {
    "papermill": {
     "duration": 0.015354,
     "end_time": "2021-07-27T05:56:13.092028",
     "exception": false,
     "start_time": "2021-07-27T05:56:13.076674",
     "status": "completed"
    },
    "tags": []
   },
   "source": [
    "[CBS News: 2006 A Record Year For Video Game Industry](https://www.cbsnews.com/news/2006-a-record-year-for-video-game-industry/)"
   ]
  },
  {
   "cell_type": "markdown",
   "id": "f62608ae",
   "metadata": {
    "papermill": {
     "duration": 0.015108,
     "end_time": "2021-07-27T05:56:13.122539",
     "exception": false,
     "start_time": "2021-07-27T05:56:13.107431",
     "status": "completed"
    },
    "tags": []
   },
   "source": [
    "#### 4.3 Genre popularity\n"
   ]
  },
  {
   "cell_type": "code",
   "execution_count": 9,
   "id": "7470e40a",
   "metadata": {
    "execution": {
     "iopub.execute_input": "2021-07-27T05:56:13.176068Z",
     "iopub.status.busy": "2021-07-27T05:56:13.174410Z",
     "iopub.status.idle": "2021-07-27T05:56:13.373606Z",
     "shell.execute_reply": "2021-07-27T05:56:13.374112Z",
     "shell.execute_reply.started": "2021-07-27T05:14:20.105568Z"
    },
    "papermill": {
     "duration": 0.236283,
     "end_time": "2021-07-27T05:56:13.374292",
     "exception": false,
     "start_time": "2021-07-27T05:56:13.138009",
     "status": "completed"
    },
    "tags": []
   },
   "outputs": [
    {
     "data": {
      "image/png": "[encoded data removed]",
      "text/plain": [
       "<Figure size 864x864 with 1 Axes>"
      ]
     },
     "metadata": {},
     "output_type": "display_data"
    }
   ],
   "source": [
    "# Summary by genre\n",
    "df_genre = games.groupby('Genre').sum().reset_index(drop=False)\n",
    "\n",
    "# Plot parameters\n",
    "figsize = [12, 12]\n",
    "x = [i for i in df_genre['Global_Sales']]\n",
    "labels = [i for i in df_genre['Genre']]\n",
    "colors = ['yellowgreen','pink','gold','lightskyblue','seagreen','lightcoral','lightblue','grey', 'purple', 'orange','plum','violet','magenta','cyan']\n",
    "explode = [0, 0.5, 0.6, 0, 0, 0, 0, 0, 0.08, 0, 0]\n",
    "autopct = '%.1f %%'\n",
    "textprops = {'fontsize': 15}\n",
    "\n",
    "# Pie chart\n",
    "plt.figure(figsize=figsize)\n",
    "plt.pie(x, \n",
    "        labels=labels, \n",
    "        colors=colors,\n",
    "        autopct=autopct, \n",
    "        explode=explode,\n",
    "        textprops=textprops)\n",
    "\n",
    "# Non-data objects\n",
    "plt.title('Genre Popularity', fontdict={'fontweight':'bold', 'fontsize':20})\n",
    "\n",
    "plt.show()\n",
    "\n"
   ]
  },
  {
   "cell_type": "markdown",
   "id": "14aa4d1a",
   "metadata": {
    "papermill": {
     "duration": 0.017656,
     "end_time": "2021-07-27T05:56:13.410960",
     "exception": false,
     "start_time": "2021-07-27T05:56:13.393304",
     "status": "completed"
    },
    "tags": []
   },
   "source": [
    "#### 4.4 Platform"
   ]
  },
  {
   "cell_type": "code",
   "execution_count": 10,
   "id": "92aae154",
   "metadata": {
    "execution": {
     "iopub.execute_input": "2021-07-27T05:56:13.449722Z",
     "iopub.status.busy": "2021-07-27T05:56:13.449132Z",
     "iopub.status.idle": "2021-07-27T05:56:13.493729Z",
     "shell.execute_reply": "2021-07-27T05:56:13.493153Z",
     "shell.execute_reply.started": "2021-07-27T05:15:41.505180Z"
    },
    "papermill": {
     "duration": 0.065173,
     "end_time": "2021-07-27T05:56:13.493885",
     "exception": false,
     "start_time": "2021-07-27T05:56:13.428712",
     "status": "completed"
    },
    "tags": []
   },
   "outputs": [
    {
     "data": {
      "text/html": [
       "<style  type=\"text/css\" >\n",
       "#T_8033c_row0_col1,#T_8033c_row1_col1,#T_8033c_row2_col1,#T_8033c_row3_col1,#T_8033c_row4_col1,#T_8033c_row5_col1,#T_8033c_row6_col1,#T_8033c_row7_col1,#T_8033c_row8_col1,#T_8033c_row9_col1,#T_8033c_row10_col1,#T_8033c_row11_col1,#T_8033c_row12_col1,#T_8033c_row13_col1,#T_8033c_row14_col1,#T_8033c_row15_col1,#T_8033c_row16_col1{\n",
       "            background-color:  turquoise;\n",
       "        }</style><table id=\"T_8033c_\" ><thead>    <tr>        <th class=\"blank level0\" ></th>        <th class=\"col_heading level0 col0\" >Platform</th>        <th class=\"col_heading level0 col1\" >NA_Sales</th>        <th class=\"col_heading level0 col2\" >EU_Sales</th>        <th class=\"col_heading level0 col3\" >JP_Sales</th>        <th class=\"col_heading level0 col4\" >Global_Sales</th>    </tr></thead><tbody>\n",
       "                <tr>\n",
       "                        <th id=\"T_8033c_level0_row0\" class=\"row_heading level0 row0\" >0</th>\n",
       "                        <td id=\"T_8033c_row0_col0\" class=\"data row0 col0\" >Wii</td>\n",
       "                        <td id=\"T_8033c_row0_col1\" class=\"data row0 col1\" >156.380000</td>\n",
       "                        <td id=\"T_8033c_row0_col2\" class=\"data row0 col2\" >109.990000</td>\n",
       "                        <td id=\"T_8033c_row0_col3\" class=\"data row0 col3\" >34.180000</td>\n",
       "                        <td id=\"T_8033c_row0_col4\" class=\"data row0 col4\" >330.920000</td>\n",
       "            </tr>\n",
       "            <tr>\n",
       "                        <th id=\"T_8033c_level0_row1\" class=\"row_heading level0 row1\" >1</th>\n",
       "                        <td id=\"T_8033c_row1_col0\" class=\"data row1 col0\" >X360</td>\n",
       "                        <td id=\"T_8033c_row1_col1\" class=\"data row1 col1\" >120.950000</td>\n",
       "                        <td id=\"T_8033c_row1_col2\" class=\"data row1 col2\" >51.190000</td>\n",
       "                        <td id=\"T_8033c_row1_col3\" class=\"data row1 col3\" >1.430000</td>\n",
       "                        <td id=\"T_8033c_row1_col4\" class=\"data row1 col4\" >189.920000</td>\n",
       "            </tr>\n",
       "            <tr>\n",
       "                        <th id=\"T_8033c_level0_row2\" class=\"row_heading level0 row2\" >2</th>\n",
       "                        <td id=\"T_8033c_row2_col0\" class=\"data row2 col0\" >DS</td>\n",
       "                        <td id=\"T_8033c_row2_col1\" class=\"data row2 col1\" >72.660000</td>\n",
       "                        <td id=\"T_8033c_row2_col2\" class=\"data row2 col2\" >65.140000</td>\n",
       "                        <td id=\"T_8033c_row2_col3\" class=\"data row2 col3\" >52.080000</td>\n",
       "                        <td id=\"T_8033c_row2_col4\" class=\"data row2 col4\" >207.170000</td>\n",
       "            </tr>\n",
       "            <tr>\n",
       "                        <th id=\"T_8033c_level0_row3\" class=\"row_heading level0 row3\" >3</th>\n",
       "                        <td id=\"T_8033c_row3_col0\" class=\"data row3 col0\" >NES</td>\n",
       "                        <td id=\"T_8033c_row3_col1\" class=\"data row3 col1\" >70.940000</td>\n",
       "                        <td id=\"T_8033c_row3_col2\" class=\"data row3 col2\" >8.830000</td>\n",
       "                        <td id=\"T_8033c_row3_col3\" class=\"data row3 col3\" >11.630000</td>\n",
       "                        <td id=\"T_8033c_row3_col4\" class=\"data row3 col4\" >93.290000</td>\n",
       "            </tr>\n",
       "            <tr>\n",
       "                        <th id=\"T_8033c_level0_row4\" class=\"row_heading level0 row4\" >4</th>\n",
       "                        <td id=\"T_8033c_row4_col0\" class=\"data row4 col0\" >GB</td>\n",
       "                        <td id=\"T_8033c_row4_col1\" class=\"data row4 col1\" >66.350000</td>\n",
       "                        <td id=\"T_8033c_row4_col2\" class=\"data row4 col2\" >27.120000</td>\n",
       "                        <td id=\"T_8033c_row4_col3\" class=\"data row4 col3\" >31.630000</td>\n",
       "                        <td id=\"T_8033c_row4_col4\" class=\"data row4 col4\" >128.690000</td>\n",
       "            </tr>\n",
       "            <tr>\n",
       "                        <th id=\"T_8033c_level0_row5\" class=\"row_heading level0 row5\" >5</th>\n",
       "                        <td id=\"T_8033c_row5_col0\" class=\"data row5 col0\" >PS3</td>\n",
       "                        <td id=\"T_8033c_row5_col1\" class=\"data row5 col1\" >41.380000</td>\n",
       "                        <td id=\"T_8033c_row5_col2\" class=\"data row5 col2\" >46.520000</td>\n",
       "                        <td id=\"T_8033c_row5_col3\" class=\"data row5 col3\" >4.730000</td>\n",
       "                        <td id=\"T_8033c_row5_col4\" class=\"data row5 col4\" >111.480000</td>\n",
       "            </tr>\n",
       "            <tr>\n",
       "                        <th id=\"T_8033c_level0_row6\" class=\"row_heading level0 row6\" >6</th>\n",
       "                        <td id=\"T_8033c_row6_col0\" class=\"data row6 col0\" >PS2</td>\n",
       "                        <td id=\"T_8033c_row6_col1\" class=\"data row6 col1\" >37.600000</td>\n",
       "                        <td id=\"T_8033c_row6_col2\" class=\"data row6 col2\" >17.570000</td>\n",
       "                        <td id=\"T_8033c_row6_col3\" class=\"data row6 col3\" >6.880000</td>\n",
       "                        <td id=\"T_8033c_row6_col4\" class=\"data row6 col4\" >84.750000</td>\n",
       "            </tr>\n",
       "            <tr>\n",
       "                        <th id=\"T_8033c_level0_row7\" class=\"row_heading level0 row7\" >7</th>\n",
       "                        <td id=\"T_8033c_row7_col0\" class=\"data row7 col0\" >3DS</td>\n",
       "                        <td id=\"T_8033c_row7_col1\" class=\"data row7 col1\" >27.940000</td>\n",
       "                        <td id=\"T_8033c_row7_col2\" class=\"data row7 col2\" >21.060000</td>\n",
       "                        <td id=\"T_8033c_row7_col3\" class=\"data row7 col3\" >21.470000</td>\n",
       "                        <td id=\"T_8033c_row7_col4\" class=\"data row7 col4\" >75.040000</td>\n",
       "            </tr>\n",
       "            <tr>\n",
       "                        <th id=\"T_8033c_level0_row8\" class=\"row_heading level0 row8\" >8</th>\n",
       "                        <td id=\"T_8033c_row8_col0\" class=\"data row8 col0\" >SNES</td>\n",
       "                        <td id=\"T_8033c_row8_col1\" class=\"data row8 col1\" >26.670000</td>\n",
       "                        <td id=\"T_8033c_row8_col2\" class=\"data row8 col2\" >8.850000</td>\n",
       "                        <td id=\"T_8033c_row8_col3\" class=\"data row8 col3\" >12.470000</td>\n",
       "                        <td id=\"T_8033c_row8_col4\" class=\"data row8 col4\" >49.220000</td>\n",
       "            </tr>\n",
       "            <tr>\n",
       "                        <th id=\"T_8033c_level0_row9\" class=\"row_heading level0 row9\" >9</th>\n",
       "                        <td id=\"T_8033c_row9_col0\" class=\"data row9 col0\" >N64</td>\n",
       "                        <td id=\"T_8033c_row9_col1\" class=\"data row9 col1\" >22.360000</td>\n",
       "                        <td id=\"T_8033c_row9_col2\" class=\"data row9 col2\" >8.690000</td>\n",
       "                        <td id=\"T_8033c_row9_col3\" class=\"data row9 col3\" >5.720000</td>\n",
       "                        <td id=\"T_8033c_row9_col4\" class=\"data row9 col4\" >37.450000</td>\n",
       "            </tr>\n",
       "            <tr>\n",
       "                        <th id=\"T_8033c_level0_row10\" class=\"row_heading level0 row10\" >10</th>\n",
       "                        <td id=\"T_8033c_row10_col0\" class=\"data row10 col0\" >PS</td>\n",
       "                        <td id=\"T_8033c_row10_col1\" class=\"data row10 col1\" >16.970000</td>\n",
       "                        <td id=\"T_8033c_row10_col2\" class=\"data row10 col2\" >13.650000</td>\n",
       "                        <td id=\"T_8033c_row10_col3\" class=\"data row10 col3\" >12.450000</td>\n",
       "                        <td id=\"T_8033c_row10_col4\" class=\"data row10 col4\" >45.600000</td>\n",
       "            </tr>\n",
       "            <tr>\n",
       "                        <th id=\"T_8033c_level0_row11\" class=\"row_heading level0 row11\" >11</th>\n",
       "                        <td id=\"T_8033c_row11_col0\" class=\"data row11 col0\" >PS4</td>\n",
       "                        <td id=\"T_8033c_row11_col1\" class=\"data row11 col1\" >16.410000</td>\n",
       "                        <td id=\"T_8033c_row11_col2\" class=\"data row11 col2\" >24.270000</td>\n",
       "                        <td id=\"T_8033c_row11_col3\" class=\"data row11 col3\" >1.130000</td>\n",
       "                        <td id=\"T_8033c_row11_col4\" class=\"data row11 col4\" >49.980000</td>\n",
       "            </tr>\n",
       "            <tr>\n",
       "                        <th id=\"T_8033c_level0_row12\" class=\"row_heading level0 row12\" >12</th>\n",
       "                        <td id=\"T_8033c_row12_col0\" class=\"data row12 col0\" >GBA</td>\n",
       "                        <td id=\"T_8033c_row12_col1\" class=\"data row12 col1\" >10.400000</td>\n",
       "                        <td id=\"T_8033c_row12_col2\" class=\"data row12 col2\" >6.550000</td>\n",
       "                        <td id=\"T_8033c_row12_col3\" class=\"data row12 col3\" >8.530000</td>\n",
       "                        <td id=\"T_8033c_row12_col4\" class=\"data row12 col4\" >26.340000</td>\n",
       "            </tr>\n",
       "            <tr>\n",
       "                        <th id=\"T_8033c_level0_row13\" class=\"row_heading level0 row13\" >13</th>\n",
       "                        <td id=\"T_8033c_row13_col0\" class=\"data row13 col0\" >2600</td>\n",
       "                        <td id=\"T_8033c_row13_col1\" class=\"data row13 col1\" >7.280000</td>\n",
       "                        <td id=\"T_8033c_row13_col2\" class=\"data row13 col2\" >0.450000</td>\n",
       "                        <td id=\"T_8033c_row13_col3\" class=\"data row13 col3\" >0.000000</td>\n",
       "                        <td id=\"T_8033c_row13_col4\" class=\"data row13 col4\" >7.810000</td>\n",
       "            </tr>\n",
       "            <tr>\n",
       "                        <th id=\"T_8033c_level0_row14\" class=\"row_heading level0 row14\" >14</th>\n",
       "                        <td id=\"T_8033c_row14_col0\" class=\"data row14 col0\" >XB</td>\n",
       "                        <td id=\"T_8033c_row14_col1\" class=\"data row14 col1\" >6.820000</td>\n",
       "                        <td id=\"T_8033c_row14_col2\" class=\"data row14 col2\" >1.530000</td>\n",
       "                        <td id=\"T_8033c_row14_col3\" class=\"data row14 col3\" >0.050000</td>\n",
       "                        <td id=\"T_8033c_row14_col4\" class=\"data row14 col4\" >8.490000</td>\n",
       "            </tr>\n",
       "            <tr>\n",
       "                        <th id=\"T_8033c_level0_row15\" class=\"row_heading level0 row15\" >15</th>\n",
       "                        <td id=\"T_8033c_row15_col0\" class=\"data row15 col0\" >PSP</td>\n",
       "                        <td id=\"T_8033c_row15_col1\" class=\"data row15 col1\" >2.900000</td>\n",
       "                        <td id=\"T_8033c_row15_col2\" class=\"data row15 col2\" >2.830000</td>\n",
       "                        <td id=\"T_8033c_row15_col3\" class=\"data row15 col3\" >0.240000</td>\n",
       "                        <td id=\"T_8033c_row15_col4\" class=\"data row15 col4\" >7.720000</td>\n",
       "            </tr>\n",
       "            <tr>\n",
       "                        <th id=\"T_8033c_level0_row16\" class=\"row_heading level0 row16\" >16</th>\n",
       "                        <td id=\"T_8033c_row16_col0\" class=\"data row16 col0\" >PC</td>\n",
       "                        <td id=\"T_8033c_row16_col1\" class=\"data row16 col1\" >0.980000</td>\n",
       "                        <td id=\"T_8033c_row16_col2\" class=\"data row16 col2\" >6.420000</td>\n",
       "                        <td id=\"T_8033c_row16_col3\" class=\"data row16 col3\" >0.000000</td>\n",
       "                        <td id=\"T_8033c_row16_col4\" class=\"data row16 col4\" >8.110000</td>\n",
       "            </tr>\n",
       "    </tbody></table>"
      ],
      "text/plain": [
       "<pandas.io.formats.style.Styler at 0x7f39285691d0>"
      ]
     },
     "execution_count": 10,
     "metadata": {},
     "output_type": "execute_result"
    }
   ],
   "source": [
    "platform = games[['Platform', 'NA_Sales', 'EU_Sales', 'JP_Sales', 'Global_Sales']]\n",
    "platform = platform.groupby('Platform').sum().sort_values('NA_Sales', ascending=False).reset_index(drop=False)\n",
    "platform.style.set_properties(**{'background-color': 'turquoise'}, subset=['NA_Sales'])"
   ]
  },
  {
   "cell_type": "markdown",
   "id": "878e2229",
   "metadata": {
    "papermill": {
     "duration": 0.018393,
     "end_time": "2021-07-27T05:56:13.530896",
     "exception": false,
     "start_time": "2021-07-27T05:56:13.512503",
     "status": "completed"
    },
    "tags": []
   },
   "source": [
    "* About a few most successful platforms"
   ]
  },
  {
   "cell_type": "markdown",
   "id": "c378aff2",
   "metadata": {
    "papermill": {
     "duration": 0.018277,
     "end_time": "2021-07-27T05:56:13.567648",
     "exception": false,
     "start_time": "2021-07-27T05:56:13.549371",
     "status": "completed"
    },
    "tags": []
   },
   "source": [
    "[Color list](https://matplotlib.org/stable/gallery/color/named_colors.html)"
   ]
  },
  {
   "cell_type": "markdown",
   "id": "6fd560d0",
   "metadata": {
    "papermill": {
     "duration": 0.018145,
     "end_time": "2021-07-27T05:56:13.604511",
     "exception": false,
     "start_time": "2021-07-27T05:56:13.586366",
     "status": "completed"
    },
    "tags": []
   },
   "source": [
    "### Publishers"
   ]
  },
  {
   "cell_type": "code",
   "execution_count": 11,
   "id": "ddc8095f",
   "metadata": {
    "execution": {
     "iopub.execute_input": "2021-07-27T05:56:13.647715Z",
     "iopub.status.busy": "2021-07-27T05:56:13.647024Z",
     "iopub.status.idle": "2021-07-27T05:56:13.796422Z",
     "shell.execute_reply": "2021-07-27T05:56:13.796869Z",
     "shell.execute_reply.started": "2021-07-27T05:55:02.715713Z"
    },
    "papermill": {
     "duration": 0.173649,
     "end_time": "2021-07-27T05:56:13.797044",
     "exception": false,
     "start_time": "2021-07-27T05:56:13.623395",
     "status": "completed"
    },
    "tags": []
   },
   "outputs": [
    {
     "data": {
      "image/png": "[encoded data removed]",
      "text/plain": [
       "<Figure size 648x288 with 1 Axes>"
      ]
     },
     "metadata": {
      "needs_background": "light"
     },
     "output_type": "display_data"
    }
   ],
   "source": [
    "text = ' '.join(games['Publisher'].unique())\n",
    "wordcloud = WordCloud(max_font_size=100, background_color='gray').generate(text)\n",
    "\n",
    "plt.figure(figsize=(9, 4))\n",
    "plt.imshow(wordcloud, interpolation='bilinear')\n",
    "plt.axis('off')\n",
    "plt.show()"
   ]
  },
  {
   "cell_type": "code",
   "execution_count": null,
   "id": "b7fc3147",
   "metadata": {
    "papermill": {
     "duration": 0.020037,
     "end_time": "2021-07-27T05:56:13.837470",
     "exception": false,
     "start_time": "2021-07-27T05:56:13.817433",
     "status": "completed"
    },
    "tags": []
   },
   "outputs": [],
   "source": []
  }
 ],
 "metadata": {
  "kernelspec": {
   "display_name": "Python 3",
   "language": "python",
   "name": "python3"
  },
  "language_info": {
   "codemirror_mode": {
    "name": "ipython",
    "version": 3
   },
   "file_extension": ".py",
   "mimetype": "text/x-python",
   "name": "python",
   "nbconvert_exporter": "python",
   "pygments_lexer": "ipython3",
   "version": "3.7.10"
  },
  "papermill": {
   "default_parameters": {},
   "duration": 10.81542,
   "end_time": "2021-07-27T05:56:15.314102",
   "environment_variables": {},
   "exception": null,
   "input_path": "__notebook__.ipynb",
   "output_path": "__notebook__.ipynb",
   "parameters": {},
   "start_time": "2021-07-27T05:56:04.498682",
   "version": "2.3.3"
  }
 },
 "nbformat": 4,
 "nbformat_minor": 5
}
