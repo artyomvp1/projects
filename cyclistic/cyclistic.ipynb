{
 "cells": [
  {
   "cell_type": "markdown",
   "metadata": {},
   "source": [
    "### Personal Notes\n",
    "* Timedeltas\n",
    "* Seaborn\n",
    "* Longtitude, latitude plots"
   ]
  },
  {
   "cell_type": "markdown",
   "metadata": {},
   "source": [
    "# Introduction\n",
    "In 2016, Cyclistic launched a successful bike-share offering. Since then, the program has grown to a fleet of 5,824 bicycles that are geotracked and locked into a network of 692 stations across Chicago. The bikes can be unlocked from one station and returned to any other station in the system anytime.\n",
    "\n",
    "Until now, Cyclistic’s marketing strategy relied on building general awareness and appealing to broad consumer segments. One approach that helped make these things possible was the flexibility of its pricing plans: single-ride passes, full-day passes, and annual memberships. Customers who purchase single-ride or full-day passes are referred to as casual riders. Customers who purchase annual memberships are Cyclistic members."
   ]
  },
  {
   "cell_type": "markdown",
   "metadata": {},
   "source": [
    "# Stage 1: Questions and Goals\n",
    "#### Stakeholders:  \n",
    " **Lily Moreno** : The director of marketing and your manager. Moreno is responsible for the development of campaigns and initiatives to promote the bike-share program. These may include email, social media, and other channels.  \n",
    " **Cyclistic marketing analytics team** : A team of data analysts who are responsible for collecting, analyzing, and reporting data that helps guide Cyclistic marketing strategy. You joined this team six months ago and have been busy learning about Cyclistic’s mission and business goals — as well as how you, as a junior data analyst, can help Cyclistic achieve them.  \n",
    " **Cyclistic executive team** : The notoriously detail-oriented executive team will decide whether to approve the recommended marketing program.  \n",
    "#### Questions:\n",
    "1. How annual members and casual riders use Cyclistic bikes differently?\n",
    "2. Why would casual riders buy Cyclistic annual membership?\n",
    "3. How can Cyclistic use digital media to influence casual riders to become members?"
   ]
  },
  {
   "cell_type": "markdown",
   "metadata": {},
   "source": [
    "# Stage 2: Prepare\n",
    "**Data**: [click here](https://divvy-tripdata.s3.amazonaws.com/index.html)  \n",
    "**Licence**: [click here](https://www.divvybikes.com/data-license-agreement)  \n",
    "**Description**: The data contains raw information about the customers using Cyclistic services in 2019.  \n",
    "**Problems**:  \n",
    "* Some columns contain incorrect format\n",
    "* Some columns contain empty cells  \n",
    "\n",
    "All the problems will be handled during cleaning and the description will be provided in the stage 3."
   ]
  },
  {
   "cell_type": "markdown",
   "metadata": {},
   "source": [
    "# Stage 3: Cleaning\n",
    "### 3.1 Uploading and processing the data\n",
    "During this case study the common libraries will be used, namely `pandas` (working with data frames), `numpy` (data structures and math operations), `matplotlib` and `seaborn` (both for data visualization)"
   ]
  },
  {
   "cell_type": "code",
   "execution_count": 46,
   "metadata": {},
   "outputs": [
    {
     "data": {
      "text/html": [
       "<div>\n",
       "<style scoped>\n",
       "    .dataframe tbody tr th:only-of-type {\n",
       "        vertical-align: middle;\n",
       "    }\n",
       "\n",
       "    .dataframe tbody tr th {\n",
       "        vertical-align: top;\n",
       "    }\n",
       "\n",
       "    .dataframe thead th {\n",
       "        text-align: right;\n",
       "    }\n",
       "</style>\n",
       "<table border=\"1\" class=\"dataframe\">\n",
       "  <thead>\n",
       "    <tr style=\"text-align: right;\">\n",
       "      <th></th>\n",
       "      <th>ride_id</th>\n",
       "      <th>rideable_type</th>\n",
       "      <th>started_at</th>\n",
       "      <th>ended_at</th>\n",
       "      <th>start_station_name</th>\n",
       "      <th>start_station_id</th>\n",
       "      <th>end_station_name</th>\n",
       "      <th>end_station_id</th>\n",
       "      <th>start_lat</th>\n",
       "      <th>start_lng</th>\n",
       "      <th>end_lat</th>\n",
       "      <th>end_lng</th>\n",
       "      <th>member_casual</th>\n",
       "    </tr>\n",
       "  </thead>\n",
       "  <tbody>\n",
       "    <tr>\n",
       "      <th>0</th>\n",
       "      <td>E19E6F1B8D4C42ED</td>\n",
       "      <td>electric_bike</td>\n",
       "      <td>2021-01-23 16:14:19</td>\n",
       "      <td>2021-01-23 16:24:44</td>\n",
       "      <td>California Ave &amp; Cortez St</td>\n",
       "      <td>17660</td>\n",
       "      <td>NaN</td>\n",
       "      <td>NaN</td>\n",
       "      <td>41.900341</td>\n",
       "      <td>-87.696743</td>\n",
       "      <td>41.89</td>\n",
       "      <td>-87.72</td>\n",
       "      <td>member</td>\n",
       "    </tr>\n",
       "    <tr>\n",
       "      <th>1</th>\n",
       "      <td>DC88F20C2C55F27F</td>\n",
       "      <td>electric_bike</td>\n",
       "      <td>2021-01-27 18:43:08</td>\n",
       "      <td>2021-01-27 18:47:12</td>\n",
       "      <td>California Ave &amp; Cortez St</td>\n",
       "      <td>17660</td>\n",
       "      <td>NaN</td>\n",
       "      <td>NaN</td>\n",
       "      <td>41.900333</td>\n",
       "      <td>-87.696707</td>\n",
       "      <td>41.90</td>\n",
       "      <td>-87.69</td>\n",
       "      <td>member</td>\n",
       "    </tr>\n",
       "    <tr>\n",
       "      <th>2</th>\n",
       "      <td>EC45C94683FE3F27</td>\n",
       "      <td>electric_bike</td>\n",
       "      <td>2021-01-21 22:35:54</td>\n",
       "      <td>2021-01-21 22:37:14</td>\n",
       "      <td>California Ave &amp; Cortez St</td>\n",
       "      <td>17660</td>\n",
       "      <td>NaN</td>\n",
       "      <td>NaN</td>\n",
       "      <td>41.900313</td>\n",
       "      <td>-87.696643</td>\n",
       "      <td>41.90</td>\n",
       "      <td>-87.70</td>\n",
       "      <td>member</td>\n",
       "    </tr>\n",
       "    <tr>\n",
       "      <th>3</th>\n",
       "      <td>4FA453A75AE377DB</td>\n",
       "      <td>electric_bike</td>\n",
       "      <td>2021-01-07 13:31:13</td>\n",
       "      <td>2021-01-07 13:42:55</td>\n",
       "      <td>California Ave &amp; Cortez St</td>\n",
       "      <td>17660</td>\n",
       "      <td>NaN</td>\n",
       "      <td>NaN</td>\n",
       "      <td>41.900399</td>\n",
       "      <td>-87.696662</td>\n",
       "      <td>41.92</td>\n",
       "      <td>-87.69</td>\n",
       "      <td>member</td>\n",
       "    </tr>\n",
       "  </tbody>\n",
       "</table>\n",
       "</div>"
      ],
      "text/plain": [
       "            ride_id  rideable_type           started_at             ended_at  \\\n",
       "0  E19E6F1B8D4C42ED  electric_bike  2021-01-23 16:14:19  2021-01-23 16:24:44   \n",
       "1  DC88F20C2C55F27F  electric_bike  2021-01-27 18:43:08  2021-01-27 18:47:12   \n",
       "2  EC45C94683FE3F27  electric_bike  2021-01-21 22:35:54  2021-01-21 22:37:14   \n",
       "3  4FA453A75AE377DB  electric_bike  2021-01-07 13:31:13  2021-01-07 13:42:55   \n",
       "\n",
       "           start_station_name start_station_id end_station_name  \\\n",
       "0  California Ave & Cortez St            17660              NaN   \n",
       "1  California Ave & Cortez St            17660              NaN   \n",
       "2  California Ave & Cortez St            17660              NaN   \n",
       "3  California Ave & Cortez St            17660              NaN   \n",
       "\n",
       "  end_station_id  start_lat  start_lng  end_lat  end_lng member_casual  \n",
       "0            NaN  41.900341 -87.696743    41.89   -87.72        member  \n",
       "1            NaN  41.900333 -87.696707    41.90   -87.69        member  \n",
       "2            NaN  41.900313 -87.696643    41.90   -87.70        member  \n",
       "3            NaN  41.900399 -87.696662    41.92   -87.69        member  "
      ]
     },
     "execution_count": 46,
     "metadata": {},
     "output_type": "execute_result"
    }
   ],
   "source": [
    "# Importing libraries\n",
    "import pandas as pd\n",
    "import matplotlib.pyplot as plt\n",
    "import numpy as np\n",
    "import seaborn as sns\n",
    "import datetime\n",
    "\n",
    "# Creating data frames\n",
    "df1 = pd.read_csv('~/Downloads//cyclistic/202101-divvy-tripdata.csv')\n",
    "df2 = pd.read_csv('~/Downloads//cyclistic/202102-divvy-tripdata.csv')\n",
    "df3 = pd.read_csv('~/Downloads//cyclistic/202103-divvy-tripdata.csv')\n",
    "df4 = pd.read_csv('~/Downloads//cyclistic/202104-divvy-tripdata.csv')\n",
    "df5 = pd.read_csv('~/Downloads//cyclistic/202105-divvy-tripdata.csv')\n",
    "df6 = pd.read_csv('~/Downloads//cyclistic/202106-divvy-tripdata.csv')\n",
    "df7 = pd.read_csv('~/Downloads//cyclistic/202107-divvy-tripdata.csv')\n",
    "df8 = pd.read_csv('~/Downloads//cyclistic/202108-divvy-tripdata.csv')\n",
    "\n",
    "# Merging data frames (SQL-like union)\n",
    "df = pd.concat([df1, df2, df3, df4, df5, df6, df7, df8])\n",
    "df.reset_index(drop=True, inplace=True)\n",
    "df.head(4)"
   ]
  },
  {
   "cell_type": "markdown",
   "metadata": {},
   "source": [
    "### 3.2 Handling empty values\n",
    "The table below shows that the data frame contains cells in `start_station_name`, `start_station_id`, `end_station_name`, `end_station_id`, `end_lat`, and `end_lng` columns. Since I am not able to find the information about latitude and lontitude, the rows will be deleted. The information in the rest of the columns is not crucial, so the empty cells will be replaced with `0` and `Unknown` values."
   ]
  },
  {
   "cell_type": "code",
   "execution_count": 47,
   "metadata": {},
   "outputs": [
    {
     "data": {
      "text/plain": [
       "ride_id                    0\n",
       "rideable_type              0\n",
       "started_at                 0\n",
       "ended_at                   0\n",
       "start_station_name    363133\n",
       "start_station_id      363132\n",
       "end_station_name      392390\n",
       "end_station_id        392390\n",
       "start_lat                  0\n",
       "start_lng                  0\n",
       "end_lat                 3357\n",
       "end_lng                 3357\n",
       "member_casual              0\n",
       "dtype: int64"
      ]
     },
     "execution_count": 47,
     "metadata": {},
     "output_type": "execute_result"
    }
   ],
   "source": [
    "# Visualization of empty rows\n",
    "df.isna().sum()"
   ]
  },
  {
   "cell_type": "code",
   "execution_count": 48,
   "metadata": {},
   "outputs": [
    {
     "data": {
      "text/plain": [
       "ride_id               0\n",
       "rideable_type         0\n",
       "started_at            0\n",
       "ended_at              0\n",
       "start_station_name    0\n",
       "start_station_id      0\n",
       "end_station_name      0\n",
       "end_station_id        0\n",
       "start_lat             0\n",
       "start_lng             0\n",
       "end_lat               0\n",
       "end_lng               0\n",
       "member_casual         0\n",
       "dtype: int64"
      ]
     },
     "execution_count": 48,
     "metadata": {},
     "output_type": "execute_result"
    }
   ],
   "source": [
    " # Filling the empty values\n",
    "for i in df:\n",
    "    if i in ['start_station_name', 'end_station_name']:\n",
    "        df[i] = df[i].fillna('Unknown')\n",
    "    elif i in ['start_station_id', 'end_station_id']:\n",
    "        df[i] = df[i].fillna(0)\n",
    "    elif i in ['end_lat', 'end_lng']:\n",
    "        df.dropna(subset=['end_lat', 'end_lng'], inplace=True)\n",
    "\n",
    "# Checking empty values after cleaning        \n",
    "df.isna().sum()"
   ]
  },
  {
   "cell_type": "markdown",
   "metadata": {},
   "source": [
    "### 3.3 Incorect data types\n",
    "Columns `started_at` and `ended_at` represent timestamp during which the service was provided, however these columns have data type `string`. I am going to convert them to `datetime64` type."
   ]
  },
  {
   "cell_type": "code",
   "execution_count": 49,
   "metadata": {},
   "outputs": [
    {
     "data": {
      "text/plain": [
       "ride_id                object\n",
       "rideable_type          object\n",
       "started_at             object\n",
       "ended_at               object\n",
       "start_station_name     object\n",
       "start_station_id       object\n",
       "end_station_name       object\n",
       "end_station_id         object\n",
       "start_lat             float64\n",
       "start_lng             float64\n",
       "end_lat               float64\n",
       "end_lng               float64\n",
       "member_casual          object\n",
       "dtype: object"
      ]
     },
     "execution_count": 49,
     "metadata": {},
     "output_type": "execute_result"
    }
   ],
   "source": [
    "# Existing data types\n",
    "df.dtypes"
   ]
  },
  {
   "cell_type": "code",
   "execution_count": 50,
   "metadata": {},
   "outputs": [
    {
     "data": {
      "text/plain": [
       "ride_id                       object\n",
       "rideable_type                 object\n",
       "started_at            datetime64[ns]\n",
       "ended_at              datetime64[ns]\n",
       "start_station_name            object\n",
       "start_station_id              object\n",
       "end_station_name              object\n",
       "end_station_id                object\n",
       "start_lat                    float64\n",
       "start_lng                    float64\n",
       "end_lat                      float64\n",
       "end_lng                      float64\n",
       "member_casual                 object\n",
       "dtype: object"
      ]
     },
     "execution_count": 50,
     "metadata": {},
     "output_type": "execute_result"
    }
   ],
   "source": [
    "# Changing the data types\n",
    "for i in df:\n",
    "    if i in ['started_at', 'ended_at']:\n",
    "        df[i] = pd.to_datetime(df[i])\n",
    "\n",
    "# Checking data types after cleaning\n",
    "df.dtypes"
   ]
  },
  {
   "cell_type": "code",
   "execution_count": null,
   "metadata": {},
   "outputs": [],
   "source": [
    "# Total number of rows\n",
    "df.count()[0]"
   ]
  },
  {
   "cell_type": "markdown",
   "metadata": {},
   "source": [
    "# Stage 4: Analysis\n",
    "\n",
    "1. How annual members and casual riders use Cyclistic bikes differently?\n",
    "2. Why would casual riders buy Cyclistic annual membership?\n",
    "3. How can Cyclistic use digital media to influence casual riders to become members?\n",
    "\n",
    "* Bike type usage by usercount\n",
    "* Mean travel time by user\n",
    "* Mean travel distance by user\n",
    "* Travel by day of week member/casual\n",
    "\n",
    "### 4.1 Additional calculations\n",
    "Following, I am going to calculate parameters that is not in the data frame, but will be very useful during the analysis process.  \n",
    "\n",
    "Parameter `duration_minutes` is calculated by subtracting time when a ride was ended and starting time:"
   ]
  },
  {
   "cell_type": "code",
   "execution_count": null,
   "metadata": {},
   "outputs": [],
   "source": [
    "# Inserting a new column showing duration of a ride in minutes\n",
    "duration = df['ended_at'] - df['started_at']\n",
    "df.insert(4, 'duration_minutes', np.round(duration.dt.seconds/60, 1))"
   ]
  },
  {
   "cell_type": "markdown",
   "metadata": {},
   "source": [
    "The new column `start_date` will be useful to represent changing overtime. Basically, I am going to change the format of the `started_at` parameter to a standart year-month-day type:"
   ]
  },
  {
   "cell_type": "code",
   "execution_count": null,
   "metadata": {},
   "outputs": [],
   "source": [
    "# Inserting a new column showing a start date\n",
    "start_date = pd.to_datetime(df['started_at']).dt.date\n",
    "df.insert(2, 'start_date', start_date)\n",
    "df['start_date'] = pd.to_datetime(df['start_date'])"
   ]
  },
  {
   "cell_type": "markdown",
   "metadata": {},
   "source": [
    "Having latitude and longitude parameters allows to calculate the distance between starting point and destination by creating a custom function.\n",
    "The result of the function will be represented in kilometers and can be checked [here](https://www.meridianoutpost.com/resources/etools/calculators/calculator-latitude-longitude-distance.php?)."
   ]
  },
  {
   "cell_type": "code",
   "execution_count": null,
   "metadata": {},
   "outputs": [],
   "source": [
    "# Create a function to calculate the distance between two points\n",
    "def haversine_np(lon1, lat1, lon2, lat2):\n",
    "    \"\"\"\n",
    "    Calculate the great circle distance between two points\n",
    "    on the earth (specified in decimal degrees)\n",
    "    All args must be of equal length.    \n",
    "    \"\"\"\n",
    "    lon1, lat1, lon2, lat2 = map(np.radians, [lon1, lat1, lon2, lat2])\n",
    "\n",
    "    dlon = lon2 - lon1\n",
    "    dlat = lat2 - lat1\n",
    "\n",
    "    a = np.sin(dlat/2.0)**2 + np.cos(lat1) * np.cos(lat2) * np.sin(dlon/2.0)**2\n",
    "    c = 2 * np.arcsin(np.sqrt(a))\n",
    "    km = 6367 * c\n",
    "    \n",
    "    return km\n",
    "\n",
    "# Add new column with the distance between points\n",
    "distance_km = haversine_np(df['start_lng'], df['start_lat'], df['end_lng'], df['end_lat'])\n",
    "df.insert(10, 'distance_km', distance_km)"
   ]
  },
  {
   "cell_type": "markdown",
   "metadata": {},
   "source": [
    "Identifying a day of a week according to `start_date` can be useful when visualizing the distribution of the rides between week days:"
   ]
  },
  {
   "cell_type": "code",
   "execution_count": null,
   "metadata": {},
   "outputs": [],
   "source": [
    "# Add weekday column\n",
    "day_of_week = df['start_date'].dt.day_name()\n",
    "df.insert(3, 'day_of_week', df['start_date'].dt.day_name())"
   ]
  },
  {
   "cell_type": "markdown",
   "metadata": {},
   "source": [
    "Quick check the updated data frame and its data types:"
   ]
  },
  {
   "cell_type": "code",
   "execution_count": null,
   "metadata": {},
   "outputs": [],
   "source": [
    "# Quick check all new columns have been added\n",
    "df.sample(5)"
   ]
  },
  {
   "cell_type": "code",
   "execution_count": null,
   "metadata": {},
   "outputs": [],
   "source": [
    "# Quick check new columns\n",
    "df.dtypes"
   ]
  },
  {
   "cell_type": "markdown",
   "metadata": {},
   "source": [
    "### 4.2. Members vs. Casual\n",
    "In the previous section, we determined that the number of rides between Jan - Aug 2021 is `3596815`. This number is destributed almost 50/50 between casual drivers and drivers with the subscription."
   ]
  },
  {
   "cell_type": "code",
   "execution_count": null,
   "metadata": {},
   "outputs": [],
   "source": [
    "# Data frame grouped by driver type (count)\n",
    "member = df.groupby('member_casual').count().reset_index(drop=False)[['member_casual', 'ride_id']]\n",
    "\n",
    "# Parameters\n",
    "values = [i for i in member['ride_id']]\n",
    "labels = [j for j in member['member_casual']]\n",
    "colors = sns.color_palette('pastel')[0:2]\n",
    "\n",
    "# Pie chart\n",
    "plt.figure(figsize=(8, 8))\n",
    "plt.pie(values, labels=labels, colors=colors, autopct = '%.1f %%', explode=[0.01, 0.01], textprops={'fontsize': 15})\n",
    "\n",
    "# Non-data parameters\n",
    "plt.title('Members vs. Casual Drivers', fontdict={'fontweight':'bold', 'fontsize':20})\n",
    "\n",
    "plt.show()"
   ]
  },
  {
   "cell_type": "markdown",
   "metadata": {},
   "source": [
    "### 4.2 Daily distance casual vs. member"
   ]
  },
  {
   "cell_type": "code",
   "execution_count": null,
   "metadata": {},
   "outputs": [],
   "source": [
    "member_distance = df[['start_date', 'member_casual', 'distance_km']]\n",
    "member_distance = member_distance.groupby(['start_date', 'member_casual']).sum()  # sum or mean?\n",
    "member_distance.reset_index(drop=False, inplace=True)\n",
    "\n",
    "plt.figure(figsize=(17, 9))\n",
    "\n",
    "sns.lineplot(data=member_distance, x='start_date', y='distance_km', hue='member_casual')\n",
    "\n",
    "plt.show()"
   ]
  },
  {
   "cell_type": "markdown",
   "metadata": {},
   "source": [
    "### 4.3 Casual/Member average duration"
   ]
  },
  {
   "cell_type": "code",
   "execution_count": null,
   "metadata": {},
   "outputs": [],
   "source": [
    "# Casual/Member avg DURATION and bike type\n",
    "# Subplots Faced grid: https://seaborn.pydata.org/generated/seaborn.FacetGrid.html\n",
    "# Simple: https://www.python-graph-gallery.com/grouped-barplot\n",
    "# Faced Grid: https://seaborn.pydata.org/tutorial/axis_grids.html\n",
    "\n",
    "avg_duration = df[['member_casual', 'rideable_type', 'duration_minutes']].groupby(['member_casual', 'rideable_type']).mean()\n",
    "avg_duration.reset_index(drop=False, inplace=True)\n",
    "\n",
    "g = sns.FacetGrid(avg_duration, col='member_casual')\n",
    "g.map(sns.barplot, 'rideable_type', 'duration_minutes', order=['classic_bike', 'docked_bike', 'electric_bike'], palette='magma')\n",
    "\n",
    "# Non-data parameters\n",
    "g.fig.set_size_inches(10,10)\n",
    "g.set_titles(col_template=\"{col_name}\")\n",
    "g.set_axis_labels('TYPE', 'AVG MINUTES')\n",
    "g.set_xticklabels(['a', 'b', 'c'])\n",
    "\n",
    "plt.show()"
   ]
  },
  {
   "cell_type": "markdown",
   "metadata": {},
   "source": [
    "### 4.4 Casual/Member average distance"
   ]
  },
  {
   "cell_type": "code",
   "execution_count": null,
   "metadata": {},
   "outputs": [],
   "source": [
    "# Casual/Member avg DISTANCE and bike type\n",
    "avg_distance = df[['member_casual', 'rideable_type', 'distance_km']].groupby(['member_casual', 'rideable_type']).mean()\n",
    "avg_distance.reset_index(drop=False, inplace=True)\n",
    "\n",
    "g = sns.FacetGrid(avg_distance, col='member_casual')\n",
    "g.map(sns.barplot, 'rideable_type', 'distance_km', order=['classic_bike', 'docked_bike', 'electric_bike'], palette='mako')\n",
    "\n",
    "# Non-data parameters\n",
    "g.fig.set_size_inches(10,10)\n",
    "g.set_titles(col_template=\"{col_name}\")\n",
    "g.set_axis_labels('TYPE', 'AVG KILOMETERS')\n",
    "g.set_xticklabels(['a', 'b', 'c'])\n",
    "\n",
    "plt.show()"
   ]
  },
  {
   "cell_type": "code",
   "execution_count": null,
   "metadata": {},
   "outputs": [],
   "source": [
    "# Casual COUNT\n",
    "df.loc[df['member_casual'] == 'casual', ['rideable_type', 'duration_minutes', 'distance_km']].groupby('rideable_type').count()"
   ]
  },
  {
   "cell_type": "markdown",
   "metadata": {},
   "source": [
    "### Day of week"
   ]
  },
  {
   "cell_type": "code",
   "execution_count": null,
   "metadata": {},
   "outputs": [],
   "source": []
  },
  {
   "cell_type": "code",
   "execution_count": null,
   "metadata": {},
   "outputs": [],
   "source": []
  }
 ],
 "metadata": {
  "kernelspec": {
   "display_name": "Python 3",
   "language": "python",
   "name": "python3"
  },
  "language_info": {
   "codemirror_mode": {
    "name": "ipython",
    "version": 3
   },
   "file_extension": ".py",
   "mimetype": "text/x-python",
   "name": "python",
   "nbconvert_exporter": "python",
   "pygments_lexer": "ipython3",
   "version": "3.8.5"
  }
 },
 "nbformat": 4,
 "nbformat_minor": 4
}
